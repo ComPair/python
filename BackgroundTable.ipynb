{
 "cells": [
  {
   "cell_type": "markdown",
   "metadata": {
    "collapsed": true
   },
   "source": [
    "# Create a table of background rates"
   ]
  },
  {
   "cell_type": "code",
   "execution_count": 26,
   "metadata": {
    "collapsed": true
   },
   "outputs": [],
   "source": [
    "import ScienceSims\n",
    "import FigureOfMeritPlotter\n",
    "import numpy as np\n",
    "import math"
   ]
  },
  {
   "cell_type": "markdown",
   "metadata": {},
   "source": [
    "## Load data\n",
    "Load the data files and process them into background histograms."
   ]
  },
  {
   "cell_type": "code",
   "execution_count": 2,
   "metadata": {},
   "outputs": [
    {
     "name": "stdout",
     "output_type": "stream",
     "text": [
      "Parsing: ../Simulations/AMEGO4x4PerformancePlotTraFiles//FarFieldPointSource_0.158MeV_Cos0.5.inc1.id1.log\n",
      "Parsing: ../Simulations/AMEGO4x4PerformancePlotTraFiles//FarFieldPointSource_0.158MeV_Cos0.7.inc1.id1.log\n",
      "Parsing: ../Simulations/AMEGO4x4PerformancePlotTraFiles//FarFieldPointSource_0.316MeV_Cos0.5.inc1.id1.log\n",
      "Parsing: ../Simulations/AMEGO4x4PerformancePlotTraFiles//FarFieldPointSource_0.316MeV_Cos0.7.inc1.id1.log\n",
      "Parsing: ../Simulations/AMEGO4x4PerformancePlotTraFiles//FarFieldPointSource_0.501MeV_Cos0.5.inc1.id1.log\n",
      "Parsing: ../Simulations/AMEGO4x4PerformancePlotTraFiles//FarFieldPointSource_0.501MeV_Cos0.7.inc1.id1.log\n",
      "Parsing: ../Simulations/AMEGO4x4PerformancePlotTraFiles//FarFieldPointSource_1000.000MeV_Cos0.5.inc1.id1.log\n",
      "Parsing: ../Simulations/AMEGO4x4PerformancePlotTraFiles//FarFieldPointSource_1000.000MeV_Cos0.7.inc1.id1.log\n",
      "Parsing: ../Simulations/AMEGO4x4PerformancePlotTraFiles//FarFieldPointSource_100.000MeV_Cos0.5.inc1.id1.log\n",
      "Parsing: ../Simulations/AMEGO4x4PerformancePlotTraFiles//FarFieldPointSource_100.000MeV_Cos0.7.inc1.id1.log\n",
      "Parsing: ../Simulations/AMEGO4x4PerformancePlotTraFiles//FarFieldPointSource_10.000MeV_Cos0.5.inc1.id1.log\n",
      "Parsing: ../Simulations/AMEGO4x4PerformancePlotTraFiles//FarFieldPointSource_10.000MeV_Cos0.7.inc1.id1.log\n",
      "Parsing: ../Simulations/AMEGO4x4PerformancePlotTraFiles//FarFieldPointSource_1.000MeV_Cos0.5.inc1.id1.log\n",
      "Parsing: ../Simulations/AMEGO4x4PerformancePlotTraFiles//FarFieldPointSource_1.000MeV_Cos0.7.inc1.id1.log\n",
      "Parsing: ../Simulations/AMEGO4x4PerformancePlotTraFiles//FarFieldPointSource_1584.893MeV_Cos0.5.inc1.id1.log\n",
      "Parsing: ../Simulations/AMEGO4x4PerformancePlotTraFiles//FarFieldPointSource_1584.893MeV_Cos0.7.inc1.id1.log\n",
      "Parsing: ../Simulations/AMEGO4x4PerformancePlotTraFiles//FarFieldPointSource_158.489MeV_Cos0.5.inc1.id1.log\n",
      "Parsing: ../Simulations/AMEGO4x4PerformancePlotTraFiles//FarFieldPointSource_158.489MeV_Cos0.7.inc1.id1.log\n",
      "Parsing: ../Simulations/AMEGO4x4PerformancePlotTraFiles//FarFieldPointSource_15.848MeV_Cos0.5.inc1.id1.log\n",
      "Parsing: ../Simulations/AMEGO4x4PerformancePlotTraFiles//FarFieldPointSource_15.848MeV_Cos0.7.inc1.id1.log\n",
      "Parsing: ../Simulations/AMEGO4x4PerformancePlotTraFiles//FarFieldPointSource_1.584MeV_Cos0.5.inc1.id1.log\n",
      "Parsing: ../Simulations/AMEGO4x4PerformancePlotTraFiles//FarFieldPointSource_1.584MeV_Cos0.7.inc1.id1.log\n",
      "Parsing: ../Simulations/AMEGO4x4PerformancePlotTraFiles//FarFieldPointSource_3162.277MeV_Cos0.5.inc1.id1.log\n",
      "Parsing: ../Simulations/AMEGO4x4PerformancePlotTraFiles//FarFieldPointSource_3162.277MeV_Cos0.7.inc1.id1.log\n",
      "Parsing: ../Simulations/AMEGO4x4PerformancePlotTraFiles//FarFieldPointSource_316.227MeV_Cos0.5.inc1.id1.log\n",
      "Parsing: ../Simulations/AMEGO4x4PerformancePlotTraFiles//FarFieldPointSource_316.227MeV_Cos0.7.inc1.id1.log\n",
      "Parsing: ../Simulations/AMEGO4x4PerformancePlotTraFiles//FarFieldPointSource_31.622MeV_Cos0.5.inc1.id1.log\n",
      "Parsing: ../Simulations/AMEGO4x4PerformancePlotTraFiles//FarFieldPointSource_31.622MeV_Cos0.7.inc1.id1.log\n",
      "Parsing: ../Simulations/AMEGO4x4PerformancePlotTraFiles//FarFieldPointSource_3.162MeV_Cos0.5.inc1.id1.log\n",
      "Parsing: ../Simulations/AMEGO4x4PerformancePlotTraFiles//FarFieldPointSource_3.162MeV_Cos0.7.inc1.id1.log\n",
      "Parsing: ../Simulations/AMEGO4x4PerformancePlotTraFiles//FarFieldPointSource_5011.872MeV_Cos0.5.inc1.id1.log\n",
      "Parsing: ../Simulations/AMEGO4x4PerformancePlotTraFiles//FarFieldPointSource_5011.872MeV_Cos0.7.inc1.id1.log\n",
      "Parsing: ../Simulations/AMEGO4x4PerformancePlotTraFiles//FarFieldPointSource_501.187MeV_Cos0.5.inc1.id1.log\n",
      "Parsing: ../Simulations/AMEGO4x4PerformancePlotTraFiles//FarFieldPointSource_501.187MeV_Cos0.7.inc1.id1.log\n",
      "Parsing: ../Simulations/AMEGO4x4PerformancePlotTraFiles//FarFieldPointSource_50.118MeV_Cos0.5.inc1.id1.log\n",
      "Parsing: ../Simulations/AMEGO4x4PerformancePlotTraFiles//FarFieldPointSource_50.118MeV_Cos0.7.inc1.id1.log\n",
      "Parsing: ../Simulations/AMEGO4x4PerformancePlotTraFiles//FarFieldPointSource_5.011MeV_Cos0.5.inc1.id1.log\n",
      "Parsing: ../Simulations/AMEGO4x4PerformancePlotTraFiles//FarFieldPointSource_5.011MeV_Cos0.7.inc1.id1.log\n",
      "Parsing: ../Simulations/AMEGO4x4PerformancePlotTraFiles//FarFieldPointSource_0.158MeV_Cos0.6.inc1.id1.log\n",
      "Parsing: ../Simulations/AMEGO4x4PerformancePlotTraFiles//FarFieldPointSource_0.158MeV_Cos0.9.inc1.id1.log\n",
      "Parsing: ../Simulations/AMEGO4x4PerformancePlotTraFiles//FarFieldPointSource_0.316MeV_Cos0.6.inc1.id1.log\n",
      "Parsing: ../Simulations/AMEGO4x4PerformancePlotTraFiles//FarFieldPointSource_0.316MeV_Cos0.9.inc1.id1.log\n",
      "Parsing: ../Simulations/AMEGO4x4PerformancePlotTraFiles//FarFieldPointSource_0.501MeV_Cos0.6.inc1.id1.log\n",
      "Parsing: ../Simulations/AMEGO4x4PerformancePlotTraFiles//FarFieldPointSource_0.501MeV_Cos0.9.inc1.id1.log\n",
      "Parsing: ../Simulations/AMEGO4x4PerformancePlotTraFiles//FarFieldPointSource_1000.000MeV_Cos0.6.inc1.id1.log\n",
      "Parsing: ../Simulations/AMEGO4x4PerformancePlotTraFiles//FarFieldPointSource_1000.000MeV_Cos0.9.inc1.id1.log\n",
      "Parsing: ../Simulations/AMEGO4x4PerformancePlotTraFiles//FarFieldPointSource_100.000MeV_Cos0.6.inc1.id1.log\n",
      "Parsing: ../Simulations/AMEGO4x4PerformancePlotTraFiles//FarFieldPointSource_100.000MeV_Cos0.9.inc1.id1.log\n",
      "Parsing: ../Simulations/AMEGO4x4PerformancePlotTraFiles//FarFieldPointSource_10.000MeV_Cos0.6.inc1.id1.log\n",
      "Parsing: ../Simulations/AMEGO4x4PerformancePlotTraFiles//FarFieldPointSource_10.000MeV_Cos0.9.inc1.id1.log\n",
      "Parsing: ../Simulations/AMEGO4x4PerformancePlotTraFiles//FarFieldPointSource_1.000MeV_Cos0.6.inc1.id1.log\n",
      "Parsing: ../Simulations/AMEGO4x4PerformancePlotTraFiles//FarFieldPointSource_1.000MeV_Cos0.9.inc1.id1.log\n",
      "Parsing: ../Simulations/AMEGO4x4PerformancePlotTraFiles//FarFieldPointSource_1584.893MeV_Cos0.6.inc1.id1.log\n",
      "Parsing: ../Simulations/AMEGO4x4PerformancePlotTraFiles//FarFieldPointSource_1584.893MeV_Cos0.9.inc1.id1.log\n",
      "Parsing: ../Simulations/AMEGO4x4PerformancePlotTraFiles//FarFieldPointSource_158.489MeV_Cos0.6.inc1.id1.log\n",
      "Parsing: ../Simulations/AMEGO4x4PerformancePlotTraFiles//FarFieldPointSource_158.489MeV_Cos0.9.inc1.id1.log\n",
      "Parsing: ../Simulations/AMEGO4x4PerformancePlotTraFiles//FarFieldPointSource_15.848MeV_Cos0.6.inc1.id1.log\n",
      "Parsing: ../Simulations/AMEGO4x4PerformancePlotTraFiles//FarFieldPointSource_15.848MeV_Cos0.9.inc1.id1.log\n",
      "Parsing: ../Simulations/AMEGO4x4PerformancePlotTraFiles//FarFieldPointSource_1.584MeV_Cos0.6.inc1.id1.log\n",
      "Parsing: ../Simulations/AMEGO4x4PerformancePlotTraFiles//FarFieldPointSource_1.584MeV_Cos0.9.inc1.id1.log\n",
      "Parsing: ../Simulations/AMEGO4x4PerformancePlotTraFiles//FarFieldPointSource_3162.277MeV_Cos0.6.inc1.id1.log\n",
      "Parsing: ../Simulations/AMEGO4x4PerformancePlotTraFiles//FarFieldPointSource_3162.277MeV_Cos0.9.inc1.id1.log\n",
      "Parsing: ../Simulations/AMEGO4x4PerformancePlotTraFiles//FarFieldPointSource_316.227MeV_Cos0.6.inc1.id1.log\n",
      "Parsing: ../Simulations/AMEGO4x4PerformancePlotTraFiles//FarFieldPointSource_316.227MeV_Cos0.9.inc1.id1.log\n",
      "Parsing: ../Simulations/AMEGO4x4PerformancePlotTraFiles//FarFieldPointSource_31.622MeV_Cos0.6.inc1.id1.log\n",
      "Parsing: ../Simulations/AMEGO4x4PerformancePlotTraFiles//FarFieldPointSource_31.622MeV_Cos0.9.inc1.id1.log\n",
      "Parsing: ../Simulations/AMEGO4x4PerformancePlotTraFiles//FarFieldPointSource_3.162MeV_Cos0.6.inc1.id1.log\n",
      "Parsing: ../Simulations/AMEGO4x4PerformancePlotTraFiles//FarFieldPointSource_3.162MeV_Cos0.9.inc1.id1.log\n",
      "Parsing: ../Simulations/AMEGO4x4PerformancePlotTraFiles//FarFieldPointSource_5011.872MeV_Cos0.6.inc1.id1.log\n",
      "Parsing: ../Simulations/AMEGO4x4PerformancePlotTraFiles//FarFieldPointSource_5011.872MeV_Cos0.9.inc1.id1.log\n",
      "Parsing: ../Simulations/AMEGO4x4PerformancePlotTraFiles//FarFieldPointSource_501.187MeV_Cos0.6.inc1.id1.log\n",
      "Parsing: ../Simulations/AMEGO4x4PerformancePlotTraFiles//FarFieldPointSource_501.187MeV_Cos0.9.inc1.id1.log\n",
      "Parsing: ../Simulations/AMEGO4x4PerformancePlotTraFiles//FarFieldPointSource_50.118MeV_Cos0.6.inc1.id1.log\n",
      "Parsing: ../Simulations/AMEGO4x4PerformancePlotTraFiles//FarFieldPointSource_50.118MeV_Cos0.9.inc1.id1.log\n",
      "Parsing: ../Simulations/AMEGO4x4PerformancePlotTraFiles//FarFieldPointSource_5.011MeV_Cos0.6.inc1.id1.log\n",
      "Parsing: ../Simulations/AMEGO4x4PerformancePlotTraFiles//FarFieldPointSource_5.011MeV_Cos0.9.inc1.id1.log\n",
      "Parsing: ../Simulations/AMEGO4x4PerformancePlotTraFiles//FarFieldPointSource_0.158MeV_Cos0.8.inc1.id1.log\n",
      "Parsing: ../Simulations/AMEGO4x4PerformancePlotTraFiles//FarFieldPointSource_0.158MeV_Cos1.0.inc1.id1.log\n",
      "Parsing: ../Simulations/AMEGO4x4PerformancePlotTraFiles//FarFieldPointSource_0.316MeV_Cos0.8.inc1.id1.log\n",
      "Parsing: ../Simulations/AMEGO4x4PerformancePlotTraFiles//FarFieldPointSource_0.316MeV_Cos1.0.inc1.id1.log\n",
      "Parsing: ../Simulations/AMEGO4x4PerformancePlotTraFiles//FarFieldPointSource_0.501MeV_Cos0.8.inc1.id1.log\n",
      "Parsing: ../Simulations/AMEGO4x4PerformancePlotTraFiles//FarFieldPointSource_0.501MeV_Cos1.0.inc1.id1.log\n",
      "Parsing: ../Simulations/AMEGO4x4PerformancePlotTraFiles//FarFieldPointSource_1000.000MeV_Cos0.8.inc1.id1.log\n",
      "Parsing: ../Simulations/AMEGO4x4PerformancePlotTraFiles//FarFieldPointSource_1000.000MeV_Cos1.0.inc1.id1.log\n",
      "Parsing: ../Simulations/AMEGO4x4PerformancePlotTraFiles//FarFieldPointSource_100.000MeV_Cos0.8.inc1.id1.log\n",
      "Parsing: ../Simulations/AMEGO4x4PerformancePlotTraFiles//FarFieldPointSource_100.000MeV_Cos1.0.inc1.id1.log\n",
      "Parsing: ../Simulations/AMEGO4x4PerformancePlotTraFiles//FarFieldPointSource_10.000MeV_Cos0.8.inc1.id1.log\n",
      "Parsing: ../Simulations/AMEGO4x4PerformancePlotTraFiles//FarFieldPointSource_10.000MeV_Cos1.0.inc1.id1.log\n",
      "Parsing: ../Simulations/AMEGO4x4PerformancePlotTraFiles//FarFieldPointSource_1.000MeV_Cos0.8.inc1.id1.log\n",
      "Parsing: ../Simulations/AMEGO4x4PerformancePlotTraFiles//FarFieldPointSource_1.000MeV_Cos1.0.inc1.id1.log\n",
      "Parsing: ../Simulations/AMEGO4x4PerformancePlotTraFiles//FarFieldPointSource_1584.893MeV_Cos0.8.inc1.id1.log\n",
      "Parsing: ../Simulations/AMEGO4x4PerformancePlotTraFiles//FarFieldPointSource_1584.893MeV_Cos1.0.inc1.id1.log\n",
      "Parsing: ../Simulations/AMEGO4x4PerformancePlotTraFiles//FarFieldPointSource_158.489MeV_Cos0.8.inc1.id1.log\n",
      "Parsing: ../Simulations/AMEGO4x4PerformancePlotTraFiles//FarFieldPointSource_158.489MeV_Cos1.0.inc1.id1.log\n",
      "Parsing: ../Simulations/AMEGO4x4PerformancePlotTraFiles//FarFieldPointSource_15.848MeV_Cos0.8.inc1.id1.log\n",
      "Parsing: ../Simulations/AMEGO4x4PerformancePlotTraFiles//FarFieldPointSource_15.848MeV_Cos1.0.inc1.id1.log\n",
      "Parsing: ../Simulations/AMEGO4x4PerformancePlotTraFiles//FarFieldPointSource_1.584MeV_Cos0.8.inc1.id1.log\n",
      "Parsing: ../Simulations/AMEGO4x4PerformancePlotTraFiles//FarFieldPointSource_1.584MeV_Cos1.0.inc1.id1.log\n",
      "Parsing: ../Simulations/AMEGO4x4PerformancePlotTraFiles//FarFieldPointSource_3162.277MeV_Cos0.8.inc1.id1.log\n",
      "Parsing: ../Simulations/AMEGO4x4PerformancePlotTraFiles//FarFieldPointSource_3162.277MeV_Cos1.0.inc1.id1.log\n",
      "Parsing: ../Simulations/AMEGO4x4PerformancePlotTraFiles//FarFieldPointSource_316.227MeV_Cos0.8.inc1.id1.log\n",
      "Parsing: ../Simulations/AMEGO4x4PerformancePlotTraFiles//FarFieldPointSource_316.227MeV_Cos1.0.inc1.id1.log\n",
      "Parsing: ../Simulations/AMEGO4x4PerformancePlotTraFiles//FarFieldPointSource_31.622MeV_Cos0.8.inc1.id1.log\n",
      "Parsing: ../Simulations/AMEGO4x4PerformancePlotTraFiles//FarFieldPointSource_31.622MeV_Cos1.0.inc1.id1.log\n",
      "Parsing: ../Simulations/AMEGO4x4PerformancePlotTraFiles//FarFieldPointSource_3.162MeV_Cos0.8.inc1.id1.log\n",
      "Parsing: ../Simulations/AMEGO4x4PerformancePlotTraFiles//FarFieldPointSource_3.162MeV_Cos1.0.inc1.id1.log\n",
      "Parsing: ../Simulations/AMEGO4x4PerformancePlotTraFiles//FarFieldPointSource_5011.872MeV_Cos0.8.inc1.id1.log\n",
      "Parsing: ../Simulations/AMEGO4x4PerformancePlotTraFiles//FarFieldPointSource_5011.872MeV_Cos1.0.inc1.id1.log\n",
      "Parsing: ../Simulations/AMEGO4x4PerformancePlotTraFiles//FarFieldPointSource_501.187MeV_Cos0.8.inc1.id1.log\n",
      "Parsing: ../Simulations/AMEGO4x4PerformancePlotTraFiles//FarFieldPointSource_501.187MeV_Cos1.0.inc1.id1.log\n",
      "Parsing: ../Simulations/AMEGO4x4PerformancePlotTraFiles//FarFieldPointSource_50.118MeV_Cos0.8.inc1.id1.log\n",
      "Parsing: ../Simulations/AMEGO4x4PerformancePlotTraFiles//FarFieldPointSource_50.118MeV_Cos1.0.inc1.id1.log\n",
      "Parsing: ../Simulations/AMEGO4x4PerformancePlotTraFiles//FarFieldPointSource_5.011MeV_Cos0.8.inc1.id1.log\n",
      "Parsing: ../Simulations/AMEGO4x4PerformancePlotTraFiles//FarFieldPointSource_5.011MeV_Cos1.0.inc1.id1.log\n"
     ]
    }
   ],
   "source": [
    "data = FigureOfMeritPlotter.parseEventAnalysisLogs('../Simulations/AMEGO4x4PerformancePlotTraFiles/')"
   ]
  },
  {
   "cell_type": "code",
   "execution_count": 3,
   "metadata": {},
   "outputs": [
    {
     "name": "stderr",
     "output_type": "stream",
     "text": [
      "/usr/lib64/python2.7/site-packages/numpy/core/numeric.py:294: FutureWarning: in the future, full(35, 10) will return an array of dtype('int64')\n",
      "  format(shape, fill_value, array(fill_value).dtype), FutureWarning)\n"
     ]
    },
    {
     "name": "stdout",
     "output_type": "stream",
     "text": [
      "../Simulations/BackgroundFiles/Sims_100s/AlbedoNeutronsMorrisKole.inc1.id1.tra\n",
      "\n",
      "Parsing: ../Simulations/BackgroundFiles/Sims_100s/AlbedoNeutronsMorrisKole.inc1.id1.tra\n",
      "Progress: 98%   \n",
      "\n",
      "Statistics of Event Selection\n",
      "***********************************\n",
      "Total number of analyzed events: 0\n",
      "No events pass selection\n",
      "../Simulations/BackgroundFiles/Sims_100s/CosmicProtonsSpenvis.inc1.id1.tra\n",
      "\n",
      "Parsing: ../Simulations/BackgroundFiles/Sims_100s/CosmicProtonsSpenvis.inc1.id1.tra\n",
      "Progress: 88%   \n",
      "\n",
      "Statistics of Event Selection\n",
      "***********************************\n",
      "Total number of analyzed events: 102\n",
      "\n",
      "Number of unknown events: 523 (83%)\n",
      "Number of pair events: 27 (4%)\n",
      "Number of Compton events: 75 (12%)\n",
      " - Number of tracked electron events: 9 (12%)\n",
      " - Number of untracked electron events: 66 (88%)\n",
      "\n",
      "\n",
      "../Simulations/BackgroundFiles/Sims_100s/AlbedoElectronsAlcarazMizuno.inc1.id1.tra\n",
      "\n",
      "Parsing: ../Simulations/BackgroundFiles/Sims_100s/AlbedoElectronsAlcarazMizuno.inc1.id1.tra\n",
      "Progress: 0%   \r"
     ]
    },
    {
     "name": "stderr",
     "output_type": "stream",
     "text": [
      "FigureOfMeritPlotter.py:1750: FutureWarning: comparison to `None` will result in an elementwise object comparison in the future.\n",
      "  if (energy == None) & (st==None) & (sp==None):\n"
     ]
    },
    {
     "name": "stdout",
     "output_type": "stream",
     "text": [
      "Progress: 90%   \n",
      "\n",
      "Statistics of Event Selection\n",
      "***********************************\n",
      "Total number of analyzed events: 550\n",
      "\n",
      "Number of unknown events: 1606 (74%)\n",
      "Number of pair events: 161 (7%)\n",
      "Number of Compton events: 389 (18%)\n",
      " - Number of tracked electron events: 87 (22%)\n",
      " - Number of untracked electron events: 302 (77%)\n",
      "\n",
      "\n",
      "../Simulations/BackgroundFiles/Sims_100s/AlbedoPositronsAlcarazMizuno.inc1.id1.tra\n",
      "\n",
      "Parsing: ../Simulations/BackgroundFiles/Sims_100s/AlbedoPositronsAlcarazMizuno.inc1.id1.tra\n",
      "Progress: 90%   \n",
      "\n",
      "Statistics of Event Selection\n",
      "***********************************\n",
      "Total number of analyzed events: 1965\n",
      "\n",
      "Number of unknown events: 5575 (73%)\n",
      "Number of pair events: 495 (6%)\n",
      "Number of Compton events: 1470 (19%)\n",
      " - Number of tracked electron events: 298 (20%)\n",
      " - Number of untracked electron events: 1172 (79%)\n",
      "\n",
      "\n",
      "../Simulations/BackgroundFiles/Sims_100s/AlbedoPhotonsAjelloMizuno.inc1.id1.tra\n",
      "\n",
      "Parsing: ../Simulations/BackgroundFiles/Sims_100s/AlbedoPhotonsAjelloMizuno.inc1.id1.tra\n",
      "Progress: 90%   \n",
      "\n",
      "Statistics of Event Selection\n",
      "***********************************\n",
      "Total number of analyzed events: 23\n",
      "\n",
      "Number of unknown events: 55 (70%)\n",
      "Number of pair events: 23 (29%)\n",
      "Number of Compton events: 0 (0%)\n",
      "\n",
      "\n",
      "../Simulations/BackgroundFiles/Sims_100s/AnnihilationLineHarris.inc1.id1.tra\n",
      "\n",
      "Parsing: ../Simulations/BackgroundFiles/Sims_100s/AnnihilationLineHarris.inc1.id1.tra\n",
      "Progress: 95%   \n",
      "\n",
      "Statistics of Event Selection\n",
      "***********************************\n",
      "Total number of analyzed events: 881\n",
      "\n",
      "Number of unknown events: 549 (38%)\n",
      "Number of pair events: 0 (0%)\n",
      "Number of Compton events: 881 (61%)\n",
      " - Number of tracked electron events: 26 (2%)\n",
      " - Number of untracked electron events: 855 (97%)\n",
      "\n",
      "\n",
      "../Simulations/BackgroundFiles/Sims_100s/CosmicPhotonsGruber.inc1.id1.tra\n",
      "\n",
      "Parsing: ../Simulations/BackgroundFiles/Sims_100s/CosmicPhotonsGruber.inc1.id1.tra\n",
      "Progress: 94%   \n",
      "\n",
      "Statistics of Event Selection\n",
      "***********************************\n",
      "Total number of analyzed events: 48047\n",
      "\n",
      "Number of unknown events: 44756 (48%)\n",
      "Number of pair events: 82 (0%)\n",
      "Number of Compton events: 47965 (51%)\n",
      " - Number of tracked electron events: 1212 (2%)\n",
      " - Number of untracked electron events: 46753 (97%)\n",
      "\n",
      "\n",
      "Unknown =  63369\n",
      "Compton =  57926\n",
      "Pair =  1578\n",
      "Compton in 10deg =  502\n",
      "Pair in 10deg =  40\n",
      "Background Rate in 10deg\n",
      "542\n",
      "    > 100 keV  -   4.74\n",
      "    > 1 MeV  -   1.0\n",
      "    > 10 MeV  -   0.35\n",
      "    > 100 MeV  -   0.13\n"
     ]
    },
    {
     "data": {
      "image/png": "[encoded data removed]",
      "text/plain": [
       "<Figure size 432x288 with 1 Axes>"
      ]
     },
     "metadata": {},
     "output_type": "display_data"
    }
   ],
   "source": [
    "hist_CompARM,hist_PairARM=ScienceSims.plot_AMEGO_background_sim(dir='../Simulations/BackgroundFiles/Sims_100s/',data=data,ARMcut=10,angleSelection=1.0)"
   ]
  },
  {
   "cell_type": "code",
   "execution_count": 21,
   "metadata": {},
   "outputs": [
    {
     "name": "stdout",
     "output_type": "stream",
     "text": [
      "0.010 0.000\n",
      "0.016 0.000\n",
      "0.025 0.000\n",
      "0.040 0.000\n",
      "0.063 1.288\n",
      "0.100 17.613\n",
      "0.158 25.817\n",
      "0.251 10.895\n",
      "0.398 3.880\n",
      "0.631 1.417\n",
      "1.000 0.867\n",
      "1.585 0.393\n",
      "2.512 0.119\n",
      "3.981 0.068\n",
      "6.310 0.026\n",
      "10.000 0.014\n",
      "15.849 0.005\n",
      "25.119 0.001\n",
      "39.811 0.001\n",
      "63.096 0.000\n",
      "100.000 0.000\n",
      "158.489 0.000\n",
      "251.189 0.000\n",
      "398.107 0.000\n",
      "630.957 0.000\n",
      "1000.000 0.000\n",
      "1584.893 0.000\n",
      "2511.886 0.000\n",
      "3981.072 0.000\n",
      "6309.573 0.000\n",
      "10000.000 0.000\n",
      "15848.932 0.000\n",
      "25118.864 0.000\n",
      "39810.717 0.000\n",
      "63095.734 0.000\n"
     ]
    }
   ],
   "source": [
    "for e,r in zip(hist_CompARM[0], hist_CompARM[1]):\n",
    "    print '%.3f %.3f' % (e, r)"
   ]
  },
  {
   "cell_type": "markdown",
   "metadata": {},
   "source": [
    "## Produce background data file\n",
    "Now we process the background in the Compton channel and create the data file read by GPST.\n",
    "\n",
    "First off, some parameters (which must match the GPST detector configuration file):"
   ]
  },
  {
   "cell_type": "code",
   "execution_count": 29,
   "metadata": {
    "collapsed": true
   },
   "outputs": [],
   "source": [
    "# Energy range and binning\n",
    "emin = 100 #keV\n",
    "emax = 10000 #keV\n",
    "delta_e = 1 #keV\n",
    "\n",
    "# Resulting number of energy bins\n",
    "n_ebins = (emax - emin)/delta_e + 1"
   ]
  },
  {
   "cell_type": "markdown",
   "metadata": {},
   "source": [
    "Next, rearrange the background data into a more convenient format.\n",
    "\n",
    "**Note:** The table returned by ``plot_AMEGO_background_sim`` contains ph s<sup>-1</sup> MeV<sup>-1</sup>, even though the plot is ph s<sup>-1</sup>. We need the latter."
   ]
  },
  {
   "cell_type": "code",
   "execution_count": 22,
   "metadata": {
    "collapsed": true
   },
   "outputs": [],
   "source": [
    "background_data = []\n",
    "for i in range(1, len(hist_CompARM[0])):\n",
    "    e1 = hist_CompARM[0][i-1]\n",
    "    e2 = hist_CompARM[0][i]\n",
    "    if e1 > emax*1e-3:\n",
    "        break\n",
    "    \n",
    "    de = (e2-e1)\n",
    "    \n",
    "    rate = de*hist_CompARM[1][i]\n",
    "    rate = max(1e-9, rate)  # Can't interpolate on a log scale if rate is 0\n",
    "    \n",
    "    background_data.append((e1, e2, rate))"
   ]
  },
  {
   "cell_type": "markdown",
   "metadata": {},
   "source": [
    "Now we can finally produce the table:"
   ]
  },
  {
   "cell_type": "code",
   "execution_count": 30,
   "metadata": {},
   "outputs": [],
   "source": [
    "background = np.zeros(n_ebins)\n",
    "current_bin = 0\n",
    "slope = None\n",
    "scale = None\n",
    "for bin, energy in enumerate(np.arange(emin, emax + .1*delta_e, delta_e)):\n",
    "    # find bin\n",
    "    last_bin = current_bin\n",
    "    while current_bin < len(background_data) and background_data[current_bin][1] < 1e-3*energy:\n",
    "        current_bin += 1\n",
    "\n",
    "    # recalculate slope and scale of power-law fit if needed\n",
    "    if last_bin != current_bin or slope is None:\n",
    "        slope = 0.\n",
    "        cslope = 0.\n",
    "        x = 0.5 * (background_data[current_bin][0] + background_data[current_bin][1])\n",
    "        y = background_data[current_bin][2]\n",
    "        if current_bin > 0:\n",
    "            x2 = 0.5 * (background_data[current_bin-1][0] + background_data[current_bin-1][1])\n",
    "            y2 = background_data[current_bin-1][2]\n",
    "            slope += math.log(y/y2) / math.log(x/x2)\n",
    "            cslope +=1\n",
    "        if current_bin < len(background_data) - 1:\n",
    "            x2 = 0.5 * (background_data[current_bin+1][0] + background_data[current_bin+1][1])\n",
    "            y2 = background_data[current_bin+1][2]\n",
    "            slope += math.log(y2/y) / math.log(x2/x)\n",
    "            cslope +=1\n",
    "        slope /= cslope\n",
    "        scale = y * (1+slope)/(background_data[current_bin][1]**(1+slope) - background_data[current_bin][0]**(1+slope))\n",
    "        #print 'lx : %g    ly : %g    Slope : %g     Scale : %g' % (x, y, slope, scale)\n",
    "\n",
    "    # calculate number of events in [E, E + Delta E]\n",
    "    rate = 0.\n",
    "    e1 = energy*1e-3\n",
    "    e2 = (energy + delta_e)*1e-3\n",
    "    if slope == -1:\n",
    "        rate = scale * math.log(e2/e1)\n",
    "    else:\n",
    "        rate = scale/(slope+1) * (e2**(slope+1) - e1**(slope+1))\n",
    "\n",
    "    #print '%.2f %.2f %g' % (energy, energy + delta_e, rate)\n",
    "    background[bin] = rate"
   ]
  },
  {
   "cell_type": "markdown",
   "metadata": {},
   "source": [
    "If you want to store the background in a file, uncomment the last line, adjust file name as needed:"
   ]
  },
  {
   "cell_type": "code",
   "execution_count": 32,
   "metadata": {
    "collapsed": true
   },
   "outputs": [],
   "source": [
    "def write_background_file(filename):\n",
    "    of = open(filename, 'w')\n",
    "    for r in background:\n",
    "        of.write('%g ' % r)\n",
    "        \n",
    "# write_background_file('background.AMEGO.txt')"
   ]
  },
  {
   "cell_type": "code",
   "execution_count": null,
   "metadata": {
    "collapsed": true
   },
   "outputs": [],
   "source": []
  }
 ],
 "metadata": {
  "kernelspec": {
   "display_name": "Python 2",
   "language": "python2.7",
   "name": "python2"
  },
  "language_info": {
   "codemirror_mode": {
    "name": "ipython",
    "version": 2
   },
   "file_extension": ".py",
   "mimetype": "text/x-python",
   "name": "python",
   "nbconvert_exporter": "python",
   "pygments_lexer": "ipython2",
   "version": "2.7.14"
  }
 },
 "nbformat": 4,
 "nbformat_minor": 2
}
